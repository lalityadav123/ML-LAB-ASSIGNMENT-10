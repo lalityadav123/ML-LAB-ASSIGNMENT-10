{
  "nbformat": 4,
  "nbformat_minor": 0,
  "metadata": {
    "colab": {
      "name": "Amol Bansal ML lab Assignment 10 .ipynb",
      "provenance": [],
      "collapsed_sections": []
    },
    "kernelspec": {
      "name": "python3",
      "display_name": "Python 3"
    }
  },
  "cells": [
    {
      "cell_type": "markdown",
      "metadata": {
        "id": "nh0x1EQv1I4Y",
        "colab_type": "text"
      },
      "source": [
        "  \n",
        "*   Name : Lalit Yadav\n",
        "*   ID NO. : 1700230C203\n",
        "*   SEC : CSE-2\n",
        "     \n",
        "\n",
        "\n",
        "\n",
        "\n",
        "\n",
        "\n",
        "\n",
        "## PROBLEM 1"
      ]
    },
    {
      "cell_type": "code",
      "metadata": {
        "id": "aKmgu6KUtFZr",
        "colab_type": "code",
        "colab": {
          "base_uri": "https://localhost:8080/",
          "height": 1000
        },
        "outputId": "87b74a4c-2981-4643-8df9-e609c512845a"
      },
      "source": [
        "import matplotlib.pyplot as plt\n",
        "from matplotlib import style\n",
        "import numpy as np\n",
        "import pandas as pd\n",
        "\n",
        "import random\n",
        "dice=0\n",
        "for i in range(250):\n",
        "    walk = [0] \n",
        "    for x in range(100):\n",
        "        step = walk[-1] \n",
        "        dice = random.randint(1,7)\n",
        "        if dice <= 2 :\n",
        "            step = max(0, step - 1)\n",
        "\n",
        "        elif dice<=5:\n",
        "            step += 1\n",
        "        else:\n",
        "            step = step + random.randint(1,7)\n",
        "    print(step)"
      ],
      "execution_count": 1,
      "outputs": [
        {
          "output_type": "stream",
          "text": [
            "1\n",
            "1\n",
            "7\n",
            "1\n",
            "3\n",
            "1\n",
            "0\n",
            "1\n",
            "1\n",
            "0\n",
            "0\n",
            "1\n",
            "1\n",
            "6\n",
            "0\n",
            "1\n",
            "7\n",
            "3\n",
            "3\n",
            "0\n",
            "0\n",
            "0\n",
            "0\n",
            "1\n",
            "4\n",
            "0\n",
            "0\n",
            "1\n",
            "1\n",
            "1\n",
            "1\n",
            "0\n",
            "1\n",
            "0\n",
            "1\n",
            "0\n",
            "3\n",
            "1\n",
            "0\n",
            "3\n",
            "1\n",
            "1\n",
            "1\n",
            "1\n",
            "1\n",
            "2\n",
            "1\n",
            "0\n",
            "0\n",
            "7\n",
            "5\n",
            "1\n",
            "3\n",
            "5\n",
            "4\n",
            "1\n",
            "4\n",
            "1\n",
            "6\n",
            "1\n",
            "1\n",
            "0\n",
            "1\n",
            "0\n",
            "2\n",
            "1\n",
            "1\n",
            "1\n",
            "0\n",
            "1\n",
            "1\n",
            "1\n",
            "4\n",
            "1\n",
            "4\n",
            "0\n",
            "1\n",
            "0\n",
            "1\n",
            "3\n",
            "1\n",
            "0\n",
            "1\n",
            "1\n",
            "1\n",
            "1\n",
            "0\n",
            "0\n",
            "1\n",
            "1\n",
            "0\n",
            "7\n",
            "1\n",
            "1\n",
            "0\n",
            "0\n",
            "1\n",
            "4\n",
            "1\n",
            "0\n",
            "0\n",
            "1\n",
            "1\n",
            "2\n",
            "0\n",
            "0\n",
            "0\n",
            "1\n",
            "1\n",
            "0\n",
            "1\n",
            "1\n",
            "1\n",
            "1\n",
            "1\n",
            "1\n",
            "1\n",
            "4\n",
            "1\n",
            "0\n",
            "1\n",
            "1\n",
            "0\n",
            "6\n",
            "2\n",
            "0\n",
            "0\n",
            "1\n",
            "1\n",
            "0\n",
            "2\n",
            "0\n",
            "1\n",
            "1\n",
            "0\n",
            "0\n",
            "1\n",
            "1\n",
            "7\n",
            "7\n",
            "6\n",
            "1\n",
            "1\n",
            "3\n",
            "4\n",
            "3\n",
            "1\n",
            "1\n",
            "1\n",
            "0\n",
            "1\n",
            "1\n",
            "3\n",
            "1\n",
            "1\n",
            "1\n",
            "0\n",
            "7\n",
            "0\n",
            "4\n",
            "1\n",
            "7\n",
            "1\n",
            "0\n",
            "1\n",
            "0\n",
            "1\n",
            "0\n",
            "1\n",
            "1\n",
            "0\n",
            "1\n",
            "0\n",
            "1\n",
            "1\n",
            "0\n",
            "2\n",
            "1\n",
            "1\n",
            "1\n",
            "6\n",
            "1\n",
            "4\n",
            "0\n",
            "1\n",
            "0\n",
            "1\n",
            "1\n",
            "1\n",
            "5\n",
            "3\n",
            "4\n",
            "3\n",
            "1\n",
            "0\n",
            "7\n",
            "0\n",
            "1\n",
            "0\n",
            "1\n",
            "1\n",
            "1\n",
            "5\n",
            "0\n",
            "0\n",
            "0\n",
            "0\n",
            "1\n",
            "1\n",
            "0\n",
            "0\n",
            "1\n",
            "1\n",
            "0\n",
            "6\n",
            "0\n",
            "6\n",
            "0\n",
            "1\n",
            "1\n",
            "2\n",
            "0\n",
            "1\n",
            "1\n",
            "6\n",
            "7\n",
            "1\n",
            "1\n",
            "6\n",
            "0\n",
            "2\n",
            "4\n",
            "1\n",
            "1\n",
            "1\n",
            "6\n",
            "1\n",
            "0\n",
            "4\n",
            "0\n",
            "5\n",
            "0\n",
            "1\n",
            "1\n",
            "1\n",
            "1\n",
            "0\n",
            "1\n",
            "0\n",
            "1\n"
          ],
          "name": "stdout"
        }
      ]
    },
    {
      "cell_type": "markdown",
      "metadata": {
        "id": "3Tx5eJxO1WlR",
        "colab_type": "text"
      },
      "source": [
        "## PROBLEM 2\n",
        "\n",
        "Generation of Random data for Mutliple linear regression"
      ]
    },
    {
      "cell_type": "code",
      "metadata": {
        "id": "8ld2Dm1Ztht6",
        "colab_type": "code",
        "colab": {
          "base_uri": "https://localhost:8080/",
          "height": 578
        },
        "outputId": "91341cca-8850-4add-b3bc-56951d51d107"
      },
      "source": [
        "import numpy as np\n",
        "import pandas as pd\n",
        "import scipy\n",
        "import random\n",
        "from scipy.stats import norm\n",
        "random.seed(1)\n",
        "n= 3\n",
        "X=[]\n",
        "for i in range(0,n):\n",
        "    X_i= scipy.stats.norm.rvs(0, 1, 100)\n",
        "    X.append(X_i)\n",
        "eps=scipy.stats.norm.rvs(0, 1, 100)\n",
        "y = 1 + (0.5 * X[0]) + (0.4 * X[1]) + (0.3 * X[2])  + eps\n",
        "data_ols = {'X0': X[0],'X1':X[1],'X2':X[2] ,'Y': y }\n",
        "df = pd.DataFrame(data_ols)\n",
        "print(df.head())\n",
        "print(df.tail())\n",
        "print(df.info())\n",
        "print(df.describe())"
      ],
      "execution_count": 2,
      "outputs": [
        {
          "output_type": "stream",
          "text": [
            "         X0        X1        X2         Y\n",
            "0  1.295365 -2.115902  0.791426  0.672025\n",
            "1  0.480073 -1.562138  1.201919  0.696396\n",
            "2 -1.872989  0.600965 -0.365426  0.366717\n",
            "3 -0.739838  1.728669 -1.494665 -1.110818\n",
            "4  1.288854 -1.657786 -0.551325 -0.278165\n",
            "          X0        X1        X2         Y\n",
            "95 -1.184047 -0.173689  0.026561 -0.902720\n",
            "96 -0.165695 -0.405795  0.409227  1.667752\n",
            "97 -0.556497 -0.491792 -0.060667  0.627619\n",
            "98 -0.756935 -0.491884 -0.065522  0.902168\n",
            "99  0.248078 -0.402047 -2.668386  0.779664\n",
            "<class 'pandas.core.frame.DataFrame'>\n",
            "RangeIndex: 100 entries, 0 to 99\n",
            "Data columns (total 4 columns):\n",
            " #   Column  Non-Null Count  Dtype  \n",
            "---  ------  --------------  -----  \n",
            " 0   X0      100 non-null    float64\n",
            " 1   X1      100 non-null    float64\n",
            " 2   X2      100 non-null    float64\n",
            " 3   Y       100 non-null    float64\n",
            "dtypes: float64(4)\n",
            "memory usage: 3.2 KB\n",
            "None\n",
            "               X0          X1          X2           Y\n",
            "count  100.000000  100.000000  100.000000  100.000000\n",
            "mean    -0.052931   -0.157578    0.061213    0.712976\n",
            "std      1.008576    1.035371    0.982450    1.279860\n",
            "min     -2.760081   -2.890591   -2.668386   -2.463379\n",
            "25%     -0.762919   -0.692226   -0.524661   -0.065475\n",
            "50%      0.005372   -0.134106    0.024867    0.627163\n",
            "75%      0.846226    0.387855    0.632701    1.447771\n",
            "max      1.818336    2.532007    2.903425    4.059816\n"
          ],
          "name": "stdout"
        }
      ]
    },
    {
      "cell_type": "markdown",
      "metadata": {
        "id": "kq5CXxGS1kWR",
        "colab_type": "text"
      },
      "source": [
        " Data generation for logistic regression"
      ]
    },
    {
      "cell_type": "code",
      "metadata": {
        "id": "v2pIf7Bhv6Ke",
        "colab_type": "code",
        "colab": {
          "base_uri": "https://localhost:8080/",
          "height": 578
        },
        "outputId": "a979e8e3-53f4-4dbe-8f73-aa546fabdb9b"
      },
      "source": [
        "X = []\n",
        "n = 3\n",
        "for i in range(0,n):\n",
        "  X_i = scipy.stats.norm.rvs(0, 1, 100)\n",
        "  X.append(X_i)\n",
        "odds = (np.exp(1 + (0.5 * X[0]) + (0.4 * X[1]) + (0.3 * X[2])) /(1 + np.exp(1 + (0.5 * X[0]) + (0.4 * X[1]) + (0.3 * X[2]) ))) \n",
        "y1 = [ ]\n",
        "for i in odds:\n",
        "  if (i>=0.5):\n",
        "    y1.append(1)\n",
        "  else:\n",
        "    y1.append(0)\n",
        "data_lr = {'X0': X[0],'X1':X[1],'X2':X[2] ,'Y': y1 }\n",
        "df1 = pd.DataFrame(data_lr)\n",
        "print(df.head())\n",
        "print(df.tail())\n",
        "print(df.info())\n",
        "print(df.describe())"
      ],
      "execution_count": 3,
      "outputs": [
        {
          "output_type": "stream",
          "text": [
            "         X0        X1        X2         Y\n",
            "0  1.295365 -2.115902  0.791426  0.672025\n",
            "1  0.480073 -1.562138  1.201919  0.696396\n",
            "2 -1.872989  0.600965 -0.365426  0.366717\n",
            "3 -0.739838  1.728669 -1.494665 -1.110818\n",
            "4  1.288854 -1.657786 -0.551325 -0.278165\n",
            "          X0        X1        X2         Y\n",
            "95 -1.184047 -0.173689  0.026561 -0.902720\n",
            "96 -0.165695 -0.405795  0.409227  1.667752\n",
            "97 -0.556497 -0.491792 -0.060667  0.627619\n",
            "98 -0.756935 -0.491884 -0.065522  0.902168\n",
            "99  0.248078 -0.402047 -2.668386  0.779664\n",
            "<class 'pandas.core.frame.DataFrame'>\n",
            "RangeIndex: 100 entries, 0 to 99\n",
            "Data columns (total 4 columns):\n",
            " #   Column  Non-Null Count  Dtype  \n",
            "---  ------  --------------  -----  \n",
            " 0   X0      100 non-null    float64\n",
            " 1   X1      100 non-null    float64\n",
            " 2   X2      100 non-null    float64\n",
            " 3   Y       100 non-null    float64\n",
            "dtypes: float64(4)\n",
            "memory usage: 3.2 KB\n",
            "None\n",
            "               X0          X1          X2           Y\n",
            "count  100.000000  100.000000  100.000000  100.000000\n",
            "mean    -0.052931   -0.157578    0.061213    0.712976\n",
            "std      1.008576    1.035371    0.982450    1.279860\n",
            "min     -2.760081   -2.890591   -2.668386   -2.463379\n",
            "25%     -0.762919   -0.692226   -0.524661   -0.065475\n",
            "50%      0.005372   -0.134106    0.024867    0.627163\n",
            "75%      0.846226    0.387855    0.632701    1.447771\n",
            "max      1.818336    2.532007    2.903425    4.059816\n"
          ],
          "name": "stdout"
        }
      ]
    },
    {
      "cell_type": "markdown",
      "metadata": {
        "id": "3SpzYmmO2GCu",
        "colab_type": "text"
      },
      "source": [
        "Data generation for K-means"
      ]
    },
    {
      "cell_type": "code",
      "metadata": {
        "id": "OUf7vSPvv8u_",
        "colab_type": "code",
        "colab": {
          "base_uri": "https://localhost:8080/",
          "height": 826
        },
        "outputId": "062e353a-e5b3-4e0e-f5a0-ee83c7be9a1c"
      },
      "source": [
        "X_a= -2 * np.random.rand(100,2)\n",
        "X_b = 1 + 2 * np.random.rand(50,2)\n",
        "X_a[50:100, :] = X_b\n",
        "plt.scatter(X_a[ : , 0], X_a[ :, 1], s = 50)\n",
        "plt.show()\n",
        "data_kmeans = {'X0': X_a[:,0],'X1':X_a[:,1]}\n",
        "df3 = pd.DataFrame(data_kmeans)\n",
        "print(df.head())\n",
        "print(df.tail())\n",
        "print(df.info())\n",
        "print(df.describe())"
      ],
      "execution_count": 4,
      "outputs": [
        {
          "output_type": "display_data",
          "data": {
            "image/png": "[encoded data removed]",
            "text/plain": [
              "<Figure size 432x288 with 1 Axes>"
            ]
          },
          "metadata": {
            "tags": [],
            "needs_background": "light"
          }
        },
        {
          "output_type": "stream",
          "text": [
            "         X0        X1        X2         Y\n",
            "0  1.295365 -2.115902  0.791426  0.672025\n",
            "1  0.480073 -1.562138  1.201919  0.696396\n",
            "2 -1.872989  0.600965 -0.365426  0.366717\n",
            "3 -0.739838  1.728669 -1.494665 -1.110818\n",
            "4  1.288854 -1.657786 -0.551325 -0.278165\n",
            "          X0        X1        X2         Y\n",
            "95 -1.184047 -0.173689  0.026561 -0.902720\n",
            "96 -0.165695 -0.405795  0.409227  1.667752\n",
            "97 -0.556497 -0.491792 -0.060667  0.627619\n",
            "98 -0.756935 -0.491884 -0.065522  0.902168\n",
            "99  0.248078 -0.402047 -2.668386  0.779664\n",
            "<class 'pandas.core.frame.DataFrame'>\n",
            "RangeIndex: 100 entries, 0 to 99\n",
            "Data columns (total 4 columns):\n",
            " #   Column  Non-Null Count  Dtype  \n",
            "---  ------  --------------  -----  \n",
            " 0   X0      100 non-null    float64\n",
            " 1   X1      100 non-null    float64\n",
            " 2   X2      100 non-null    float64\n",
            " 3   Y       100 non-null    float64\n",
            "dtypes: float64(4)\n",
            "memory usage: 3.2 KB\n",
            "None\n",
            "               X0          X1          X2           Y\n",
            "count  100.000000  100.000000  100.000000  100.000000\n",
            "mean    -0.052931   -0.157578    0.061213    0.712976\n",
            "std      1.008576    1.035371    0.982450    1.279860\n",
            "min     -2.760081   -2.890591   -2.668386   -2.463379\n",
            "25%     -0.762919   -0.692226   -0.524661   -0.065475\n",
            "50%      0.005372   -0.134106    0.024867    0.627163\n",
            "75%      0.846226    0.387855    0.632701    1.447771\n",
            "max      1.818336    2.532007    2.903425    4.059816\n"
          ],
          "name": "stdout"
        }
      ]
    },
    {
      "cell_type": "markdown",
      "metadata": {
        "id": "XxKLMLb22vze",
        "colab_type": "text"
      },
      "source": [
        "## PROBLEM 3\n",
        "\n",
        "a. Linear Regression using Gradient Descent"
      ]
    },
    {
      "cell_type": "code",
      "metadata": {
        "id": "cuLpe_VAwWTZ",
        "colab_type": "code",
        "colab": {
          "base_uri": "https://localhost:8080/",
          "height": 34
        },
        "outputId": "b4509bb2-7a49-462a-827f-fcfa7fce6646"
      },
      "source": [
        "X = df.iloc[:,0].values\n",
        "#print(X)\n",
        "y = df.iloc[:,3].values\n",
        "b1 = 0\n",
        "b0 = 0\n",
        "l = 0.001\n",
        "epochs = 150\n",
        " \n",
        "n = float(len(X))\n",
        "for i in range(epochs):\n",
        "  y_p = b1*X + b0\n",
        "  loss = np.sum(y_p - y1)**2\n",
        "  d1 = (-2/n) * sum(X * (y - y_p))\n",
        "  d0 = (-2/n) * sum(y - y_p)\n",
        "  b1 = b1 - (l*d1)\n",
        "  b0 = b0 - (l*d0)\n",
        "\n",
        "print(b1,b0)"
      ],
      "execution_count": 5,
      "outputs": [
        {
          "output_type": "stream",
          "text": [
            "0.10112485691699877 0.18570497231751598\n"
          ],
          "name": "stdout"
        }
      ]
    },
    {
      "cell_type": "markdown",
      "metadata": {
        "id": "evUnEJI03Bha",
        "colab_type": "text"
      },
      "source": [
        "b. Logistic Regression using Gradient Descent"
      ]
    },
    {
      "cell_type": "code",
      "metadata": {
        "id": "TEMit1GJxMJw",
        "colab_type": "code",
        "colab": {
          "base_uri": "https://localhost:8080/",
          "height": 187
        },
        "outputId": "600fadf3-beb6-405c-a37b-19ff136dc14c"
      },
      "source": [
        "X1 = df1.iloc[:,0:3].values\n",
        "y1 = df1.iloc[:,3].values\n",
        "\n",
        "def sigmoid(Z):\n",
        "  return 1 /(1+np.exp(-Z))\n",
        "\n",
        "def loss(y1,y_hat):\n",
        "  return -np.mean(y1*np.log(y_hat) + (1-y1)*(np.log(1-y_hat)))\n",
        "\n",
        "W = np.zeros((3,1))\n",
        "b = np.zeros((1,1))\n",
        "\n",
        "m = len(y1)\n",
        "lr = 0.001\n",
        "for epoch in range(1000):\n",
        "  Z = np.matmul(X1,W)+b\n",
        "  A = sigmoid(Z)\n",
        "  logistic_loss = loss(y1,A)\n",
        "  dz = A - y1\n",
        "  dw = 1/m * np.matmul(X1.T,dz)\n",
        "  db = np.sum(dz)\n",
        "  W = W - lr*dw\n",
        "  b = b - lr*db\n",
        "\n",
        "  if epoch % 100 == 0:\n",
        "    print(logistic_loss)"
      ],
      "execution_count": 6,
      "outputs": [
        {
          "output_type": "stream",
          "text": [
            "0.6931471805599453\n",
            "0.2786949100074348\n",
            "0.27862178692311973\n",
            "0.278549979697829\n",
            "0.27847946632558684\n",
            "0.2784102253067385\n",
            "0.27834223562565324\n",
            "0.2782754767294901\n",
            "0.2782099285079885\n",
            "0.27814557127424605\n"
          ],
          "name": "stdout"
        }
      ]
    },
    {
      "cell_type": "markdown",
      "metadata": {
        "id": "PUpVDAuc3G_z",
        "colab_type": "text"
      },
      "source": [
        "c. Linear Regression using L1 Regulrisation"
      ]
    },
    {
      "cell_type": "code",
      "metadata": {
        "id": "OAEFofTExSFP",
        "colab_type": "code",
        "colab": {
          "base_uri": "https://localhost:8080/",
          "height": 34
        },
        "outputId": "01e06195-d3fc-43d4-ba1c-6129fc3cf367"
      },
      "source": [
        "X = df.iloc[:,0].values\n",
        "y = df.iloc[:,3].values\n",
        "b1 = 0\n",
        "b0 = 0\n",
        "l = 0.001\n",
        "epochs = 100\n",
        "lam = 0.1\n",
        " \n",
        "n = float(len(X))\n",
        "for i in range(epochs):\n",
        "  y_p = b1*X + b0\n",
        "  loss = np.sum(y_p - y1)**2 + (lam * b1)\n",
        "  d1 = (-2/n) * sum(X * (y - y_p)) + lam\n",
        "  d0 = (-2/n) * sum(y - y_p)\n",
        "  b1 = b1 - (l*d1)\n",
        "  b0 = b0 - (l*d0)\n",
        "\n",
        "print(b1,b0)\n"
      ],
      "execution_count": 7,
      "outputs": [
        {
          "output_type": "stream",
          "text": [
            "0.0613818596473699 0.12966796542615613\n"
          ],
          "name": "stdout"
        }
      ]
    },
    {
      "cell_type": "markdown",
      "metadata": {
        "id": "ZisYlDuV3SIM",
        "colab_type": "text"
      },
      "source": [
        "c. Linear Regression using L2 Regulrisation"
      ]
    },
    {
      "cell_type": "code",
      "metadata": {
        "id": "9novOSUbxkeq",
        "colab_type": "code",
        "colab": {
          "base_uri": "https://localhost:8080/",
          "height": 1000
        },
        "outputId": "ec219845-72f3-46c3-ed77-416ada0dc4c8"
      },
      "source": [
        "X = df.iloc[:,0].values\n",
        "#print(X)\n",
        "y = df.iloc[:,3].values\n",
        "b1 = 0\n",
        "b0 = 0\n",
        "l = 0.001\n",
        "epochs = 100\n",
        "lam = 0.1\n",
        " \n",
        "n = float(len(X))\n",
        "for i in range(epochs):\n",
        "  y_p = b1*X + b0\n",
        "  loss = np.sum(y_p - y1)**2 + ((lam/2) * b1)\n",
        "  d1 = (-2/n) * sum(X * (y - y_p)) + (lam *b1)\n",
        "  d0 = (-2/n) * sum(y - y_p)\n",
        "  b1 = b1 - (l*d1)\n",
        "  b0 = b0 - (l*d0)\n",
        "  print(b1,b0)"
      ],
      "execution_count": 9,
      "outputs": [
        {
          "output_type": "stream",
          "text": [
            "0.0007700236145829261 0.0014259521020503652\n",
            "0.0015385659569517596 0.002849133816476247\n",
            "0.002305629873694468 0.004269550527241802\n",
            "0.0030712182059350374 0.005687207607844605\n",
            "0.003835333789343944 0.0071021104213360026\n",
            "0.004597979454148611 0.008514264320341433\n",
            "0.005359158025143843 0.009923674647080695\n",
            "0.006118872321702234 0.01133034673338819\n",
            "0.0068771251577845706 0.012734285900733115\n",
            "0.0076339193419501985 0.01413549746023962\n",
            "0.00838925767736738 0.015533986712706928\n",
            "0.00914314296182363 0.016929758948629418\n",
            "0.009895577987736028 0.018322819448216655\n",
            "0.010646565542161514 0.019713173481413403\n",
            "0.011396108406807163 0.021100826307919575\n",
            "0.012144209358040444 0.022485783177210165\n",
            "0.012890871166899453 0.023868049328555133\n",
            "0.013636096599103127 0.025247629991039244\n",
            "0.014379888415061447 0.026624530383581882\n",
            "0.01512224936988561 0.027998755714956813\n",
            "0.01586318221339819 0.029370311183811917\n",
            "0.016602689690143276 0.030739201978688888\n",
            "0.01734077453939659 0.032105433278042876\n",
            "0.018077439495175585 0.03346901025026211\n",
            "0.01881268728624953 0.03482993805368746\n",
            "0.019546520636149565 0.03618822183663201\n",
            "0.020278942263178747 0.037543866737400525\n",
            "0.021009954880422076 0.03889687788430892\n",
            "0.021739561195756492 0.040247260395703706\n",
            "0.022467763911860852 0.04159501937998135\n",
            "0.023194565726225917 0.04294015993560765\n",
            "0.02391996933116428 0.044282687151137035\n",
            "0.024643977413820295 0.045622606105231826\n",
            "0.02536659265617999 0.046959921866681506\n",
            "0.026087817735080957 0.048294639494421886\n",
            "0.026807655322222214 0.04962676403755429\n",
            "0.027526108084174068 0.050956300535364665\n",
            "0.028243178682387935 0.052283254017342684\n",
            "0.02895886977320616 0.053607629503200784\n",
            "0.029673184007871813 0.054929432002893186\n",
            "0.03038612403253846 0.05624866651663486\n",
            "0.03109769248827992 0.05756533803492049\n",
            "0.031807892011100014 0.058879451538543355\n",
            "0.032516725231942274 0.060191011998614194\n",
            "0.033224194776699655 0.061500024376580045\n",
            "0.0339303032662242 0.06280649362424305\n",
            "0.034635053316336706 0.06411042468377917\n",
            "0.03533844753783641 0.06541182248775695\n",
            "0.036040488536510554 0.0667106919591562\n",
            "0.03674117891314404 0.06800703801138659\n",
            "0.037440521263529 0.0693008655483063\n",
            "0.03813851817847438 0.07059217946424062\n",
            "0.03883517224381547 0.07188098464400043\n",
            "0.039530486040423474 0.07316728596290074\n",
            "0.040224462144215004 0.07445108828677917\n",
            "0.040917103126161584 0.07573239647201431\n",
            "0.04160841155229913 0.0770112153655442\n",
            "0.04229838998373741 0.07828754980488464\n",
            "0.042987040976669506 0.07956140461814754\n",
            "0.04367436708238121 0.08083278462405914\n",
            "0.044360370847260466 0.08210169463197838\n",
            "0.045045054812806726 0.08336813944191498\n",
            "0.045728421515640355 0.08463212384454775\n",
            "0.04641047348751196 0.08589365262124266\n",
            "0.04709121325531175 0.08715273054407094\n",
            "0.04777064334107883 0.0884093623758272\n",
            "0.04844876626201052 0.08966355287004744\n",
            "0.04912558453047163 0.09091530677102709\n",
            "0.04980110065400373 0.09216462881383893\n",
            "0.05047531713533438 0.09341152372435103\n",
            "0.051148236472386394 0.09465599621924473\n",
            "0.051819861158287024 0.09589805100603238\n",
            "0.05249019368137717 0.09713769278307528\n",
            "0.05315923652522053 0.0983749262396014\n",
            "0.05382699216861281 0.09960975605572317\n",
            "0.05449346308559081 0.10084218690245524\n",
            "0.055158651745441586 0.1020722234417321\n",
            "0.05582256061271154 0.10329987032642579\n",
            "0.05648519214721552 0.10452513220036351\n",
            "0.05714654880404588 0.10574801369834522\n",
            "0.05780663303358153 0.10696851944616115\n",
            "0.05846544728149701 0.10818665406060939\n",
            "0.05912299398877147 0.1094024221495133\n",
            "0.059779275591697684 0.11061582831173905\n",
            "0.060434294521891044 0.11182687713721294\n",
            "0.061088053206298516 0.11303557320693886\n",
            "0.061740554067207604 0.1142419210930156\n",
            "0.06239179952225527 0.11544592535865422\n",
            "0.06304179198443688 0.11664759055819525\n",
            "0.06369053386211505 0.11784692123712599\n",
            "0.0643380275590286 0.11904392193209776\n",
            "0.06498427547430133 0.12023859717094298\n",
            "0.06562928000245097 0.12143095147269245\n",
            "0.06627304353339793 0.12262098934759236\n",
            "0.06691556845247415 0.1238087152971214\n",
            "0.06755685714043193 0.12499413381400784\n",
            "0.06819691197345262 0.12617724938224653\n",
            "0.0688357353231555 0.12735806647711587\n",
            "0.06947332955660641 0.12853658956519476\n",
            "0.07010969703632658 0.12971282310437954\n"
          ],
          "name": "stdout"
        }
      ]
    },
    {
      "cell_type": "markdown",
      "metadata": {
        "id": "0Wr1dVbR3VRl",
        "colab_type": "text"
      },
      "source": [
        "d. Logistic regression using L1 regularisation"
      ]
    },
    {
      "cell_type": "code",
      "metadata": {
        "id": "-vBpNasiyhLP",
        "colab_type": "code",
        "colab": {
          "base_uri": "https://localhost:8080/",
          "height": 187
        },
        "outputId": "9fcfd301-3fed-434a-8dad-ec2b19c3dfa8"
      },
      "source": [
        "X1 = df1.iloc[:,0:3].values\n",
        "y1 = df1.iloc[:,3].values\n",
        "lam = 0.1\n",
        "def sigmoid(Z):\n",
        "  return 1 /(1+np.exp(-Z))\n",
        "\n",
        "def loss(y1,y_hat):\n",
        "  return -np.mean(y1*np.log(y_hat) + (1-y1)*(np.log(1-y_hat))) + (lam * (np.sum(W)))\n",
        "\n",
        "W = np.zeros((3,1))\n",
        "b = np.zeros((1,1))\n",
        "\n",
        "m = len(y1)\n",
        "lr = 0.001\n",
        "for epoch in range(1000):\n",
        "  Z = np.matmul(X1,W)+b\n",
        "  A = sigmoid(Z)\n",
        "  logistic_loss = loss(y1,A)\n",
        "  dz = A - y1\n",
        "  dw = 1/m * np.matmul(X1.T,dz) + lam\n",
        "  db = np.sum(dz)\n",
        "\n",
        "  W = W - lr*dw\n",
        "  b = b - lr*db\n",
        "\n",
        "  if epoch % 100 == 0:\n",
        "    print(logistic_loss)"
      ],
      "execution_count": 10,
      "outputs": [
        {
          "output_type": "stream",
          "text": [
            "0.6931471805599453\n",
            "-0.01956266244806354\n",
            "-0.31529380038254334\n",
            "-0.6081493350797085\n",
            "-0.8981554913328884\n",
            "-1.185338591294484\n",
            "-1.4697250474159105\n",
            "-1.7513413566647766\n",
            "-2.030214095746669\n",
            "-2.3063699170767826\n"
          ],
          "name": "stdout"
        }
      ]
    },
    {
      "cell_type": "markdown",
      "metadata": {
        "id": "QQ0xHITR3eBk",
        "colab_type": "text"
      },
      "source": [
        "d. Logistic regression using L2 regularisation"
      ]
    },
    {
      "cell_type": "code",
      "metadata": {
        "id": "s-2nrupZyqVu",
        "colab_type": "code",
        "colab": {
          "base_uri": "https://localhost:8080/",
          "height": 187
        },
        "outputId": "592d6bf1-f901-4857-8bda-4d832485a6e5"
      },
      "source": [
        "X1 = df1.iloc[:,0:3].values\n",
        "y1 = df1.iloc[:,3].values\n",
        "lam = 0.1\n",
        "def sigmoid(Z):\n",
        "  return 1 /(1+np.exp(-Z))\n",
        "\n",
        "def loss(y1,y_hat):\n",
        "  return -np.mean(y1*np.log(y_hat) + (1-y1)*(np.log(1-y_hat))) + (lam * (np.sum(np.square(W))))\n",
        "\n",
        "W = np.zeros((3,1))\n",
        "b = np.zeros((1,1))\n",
        "\n",
        "m = len(y1)\n",
        "lr = 0.001\n",
        "for epoch in range(1000):\n",
        "  Z = np.matmul(X1,W)+b\n",
        "  A = sigmoid(Z)\n",
        "  logistic_loss = loss(y1,A)\n",
        "  dz = A - y1\n",
        "  dw = 1/m * np.matmul(X1.T,dz) + lam * W\n",
        "  db = np.sum(dz)\n",
        "\n",
        "  W = W - lr*dw\n",
        "  b = b - lr*db\n",
        "\n",
        "  if epoch % 100 == 0:\n",
        "    print(logistic_loss)"
      ],
      "execution_count": 11,
      "outputs": [
        {
          "output_type": "stream",
          "text": [
            "0.6931471805599453\n",
            "0.27876901409046656\n",
            "0.27891262004626843\n",
            "0.27919208551444685\n",
            "0.2795996494127778\n",
            "0.2801278852768944\n",
            "0.28076968768352334\n",
            "0.28151825928910584\n",
            "0.2823670984479011\n",
            "0.28330998737622765\n"
          ],
          "name": "stdout"
        }
      ]
    },
    {
      "cell_type": "markdown",
      "metadata": {
        "id": "KqfQ5etV3mxo",
        "colab_type": "text"
      },
      "source": [
        "e. K means clustering algorithm"
      ]
    },
    {
      "cell_type": "code",
      "metadata": {
        "id": "ODIT9UTIy_VC",
        "colab_type": "code",
        "colab": {
          "base_uri": "https://localhost:8080/",
          "height": 299
        },
        "outputId": "e6bb3290-4277-4938-8289-072f5750f2d0"
      },
      "source": [
        "class K_Means:\n",
        "    def __init__(self, k=2, tol=0.001, max_iter=300):\n",
        "        self.k = k\n",
        "        self.tol = tol\n",
        "        self.max_iter = max_iter\n",
        "\n",
        "    def fit(self,data):\n",
        "\n",
        "        self.centroids = {}\n",
        "\n",
        "        for i in range(self.k):\n",
        "            self.centroids[i] = data[i]\n",
        "\n",
        "        for i in range(self.max_iter):\n",
        "            self.classifications = {}\n",
        "\n",
        "            for i in range(self.k):\n",
        "                self.classifications[i] = []\n",
        "\n",
        "            for featureset in X:\n",
        "                distances = [np.linalg.norm(featureset-self.centroids[centroid]) for centroid in self.centroids]\n",
        "                classification = distances.index(min(distances))\n",
        "                self.classifications[classification].append(featureset)\n",
        "\n",
        "            prev_centroids = dict(self.centroids)\n",
        "\n",
        "            for classification in self.classifications:\n",
        "                self.centroids[classification] = np.average(self.classifications[classification],axis=0)\n",
        "\n",
        "            optimized = True\n",
        "\n",
        "            for c in self.centroids:\n",
        "                original_centroid = prev_centroids[c]\n",
        "                current_centroid = self.centroids[c]\n",
        "                if np.sum((current_centroid-original_centroid)/original_centroid*100.0) > self.tol:\n",
        "                    print(np.sum((current_centroid-original_centroid)/original_centroid*100.0))\n",
        "                    optimized = False\n",
        "\n",
        "            if optimized:\n",
        "                break\n",
        "\n",
        "    def predict(self,data):\n",
        "        distances = [np.linalg.norm(data-self.centroids[centroid]) for centroid in self.centroids]\n",
        "        classification = distances.index(min(distances))\n",
        "        return classification\n",
        "        \n",
        "colors = 10*[\"g\",\"r\",\"c\",\"b\",\"k\"]\n",
        "\n",
        "X = df3.iloc[:,0:2].values\n",
        "clf = K_Means()\n",
        "clf.fit(X)\n",
        "\n",
        "for centroid in clf.centroids:\n",
        "    plt.scatter(clf.centroids[centroid][0], clf.centroids[centroid][1],\n",
        "                marker=\"o\", color=\"k\", s=150, linewidths=5)\n",
        "\n",
        "for classification in clf.classifications:\n",
        "    color = colors[classification]\n",
        "    for featureset in clf.classifications[classification]:\n",
        "        plt.scatter(featureset[0], featureset[1], marker=\"x\", color=color, s=150, linewidths=5)"
      ],
      "execution_count": 12,
      "outputs": [
        {
          "output_type": "stream",
          "text": [
            "252.14556376446103\n",
            "83.2549744173395\n"
          ],
          "name": "stdout"
        },
        {
          "output_type": "display_data",
          "data": {
            "image/png": "[encoded data removed]",
            "text/plain": [
              "<Figure size 432x288 with 1 Axes>"
            ]
          },
          "metadata": {
            "tags": [],
            "needs_background": "light"
          }
        }
      ]
    },
    {
      "cell_type": "markdown",
      "metadata": {
        "id": "EFh9gABL3p6a",
        "colab_type": "text"
      },
      "source": [
        "## PROBLEM 4\n",
        "\n",
        "Linear Regression using OOPS\n",
        "\n"
      ]
    },
    {
      "cell_type": "code",
      "metadata": {
        "id": "clDecl_WzM3n",
        "colab_type": "code",
        "colab": {}
      },
      "source": [
        "import numpy as np\n",
        "\n",
        "class LinearRegressionModel():\n",
        "\n",
        "    def __init__(self, dataset, learning_rate, num_iterations):\n",
        "        self.dataset = np.array(dataset)\n",
        "        self.b = 0  \n",
        "        self.m = 0  \n",
        "        self.learning_rate = learning_rate\n",
        "        self.num_iterations = num_iterations\n",
        "        self.M = len(self.dataset)\n",
        "        self.total_error = 0\n",
        "\n",
        "    def apply_gradient_descent(self):\n",
        "        for i in range(self.num_iterations):\n",
        "            self.do_gradient_step()\n",
        "\n",
        "    def do_gradient_step(self):\n",
        "        b_summation = 0\n",
        "        m_summation = 0\n",
        "        for i in range(self.M):\n",
        "            x_value = self.dataset[i, 0]\n",
        "            y_value = self.dataset[i, 1]\n",
        "            b_summation += (((self.m * x_value) + self.b) - y_value) \n",
        "            m_summation += (((self.m * x_value) + self.b) - y_value) * x_value\n",
        "        self.b = self.b - (self.learning_rate * (1/self.M) * b_summation)\n",
        "        self.m = self.m - (self.learning_rate * (1/self.M) * m_summation)\n",
        "      \n",
        "    def compute_error(self):\n",
        "        for i in range(self.M):\n",
        "            x_value = self.dataset[i, 0]\n",
        "            y_value = self.dataset[i, 1]\n",
        "            self.total_error += ((self.m * x_value) + self.b) - y_value\n",
        "        return self.total_error\n",
        "\n",
        "    def __str__(self):\n",
        "        return \"Results: b: {}, m: {}, Final Total error: {}\".format(round(self.b, 2), round(self.m, 2), round(self.compute_error(), 2))\n",
        "\n",
        "    def get_prediction_based_on(self, x):\n",
        "        return round(float((self.m * x) + self.b), 2) \n",
        "\n",
        "def main():\n",
        "    school_dataset = np.genfromtxt(DATASET_PATH, delimiter=\",\")\n",
        "    lr = LinearRegressionModel(school_dataset, 0.0001, 1000)\n",
        "    lr.apply_gradient_descent()\n",
        "    hours = [10, 20, 30, 40, 50, 60, 70, 80, 90, 100]\n",
        "    for hour in hours:\n",
        "        print(\"Studied {} hours and got {} points.\".format(hour, lr.get_prediction_based_on(hour)))\n",
        "    print(lr)\n",
        "    if __name__ == \"__main__\": main()"
      ],
      "execution_count": 0,
      "outputs": []
    },
    {
      "cell_type": "markdown",
      "metadata": {
        "id": "cMbArgbs30iR",
        "colab_type": "text"
      },
      "source": [
        "Logistic Regression using OOPS"
      ]
    },
    {
      "cell_type": "code",
      "metadata": {
        "id": "2vq2L9qczZim",
        "colab_type": "code",
        "colab": {}
      },
      "source": [
        "class LogisticRegression:\n",
        "  def __init__(self, learning_rate, num_iters, fit_intercept = True, verbose = False):\n",
        "    self.learning_rate = learning_rate\n",
        "    self.num_iters = num_iters\n",
        "    self.fit_intercept = fit_intercept\n",
        "    self.verbose = verbose\n",
        "  def __add_intercept(self, X):\n",
        "    intercept = np.ones((X.shape[0],1))\n",
        "    return np.concatenate((intercept,X),axis=1)\n",
        "  def __sigmoid(self,z):\n",
        "    return 1/(1+np.exp(-z))\n",
        "  def __loss(self, h, y):\n",
        "    return (-y * np.log(h) - (1-y) * np.log(1-h)).mean()\n",
        "  \n",
        "  def fit(self,X,y):\n",
        "    if self.fit_intercept:\n",
        "      X = self.__add_intercept(X)\n",
        "    self.theta = np.zeros(X.shape[1])\n",
        "    \n",
        "    for i in range(self.num_iters):\n",
        "      z = np.dot(X,self.theta)\n",
        "      h = self.__sigmoid(z)\n",
        "      gradient = np.dot(X.T,(h-y))/y.size\n",
        "      \n",
        "      self.theta -= self.learning_rate * gradient\n",
        "      \n",
        "      z = np.dot(X,self.theta)\n",
        "      h = self.__sigmoid(z)\n",
        "      loss = self.__loss(h,y)\n",
        "      \n",
        "      if self.verbose == True and i % 1000 == 0:\n",
        "        print(f'Loss: {loss}\\t')\n",
        "  def predict_probability(self,X):\n",
        "    if self.fit_intercept:\n",
        "      X = self.__add_intercept(X)\n",
        "    return self.__sigmoid(np.dot(X,self.theta))\n",
        "  def predict(self,X):\n",
        "    return (self.predict_probability(X).round())"
      ],
      "execution_count": 0,
      "outputs": []
    },
    {
      "cell_type": "markdown",
      "metadata": {
        "id": "kqcTP8AS34_8",
        "colab_type": "text"
      },
      "source": [
        "K-means clustering using OOPS"
      ]
    },
    {
      "cell_type": "code",
      "metadata": {
        "id": "Ng904l__0EUj",
        "colab_type": "code",
        "colab": {}
      },
      "source": [
        "class K_Means:\n",
        "    def __init__(self, k=2, tol=0.001, max_iter=300):\n",
        "        self.k = k\n",
        "        self.tol = tol\n",
        "        self.max_iter = max_iter\n",
        "\n",
        "    def fit(self,data):\n",
        "\n",
        "        self.centroids = {}\n",
        "\n",
        "        for i in range(self.k):\n",
        "            self.centroids[i] = data[i]\n",
        "\n",
        "        for i in range(self.max_iter):\n",
        "            self.classifications = {}\n",
        "\n",
        "            for i in range(self.k):\n",
        "                self.classifications[i] = []\n",
        "\n",
        "            for featureset in X:\n",
        "                distances = [np.linalg.norm(featureset-self.centroids[centroid]) for centroid in self.centroids]\n",
        "                classification = distances.index(min(distances))\n",
        "                self.classifications[classification].append(featureset)\n",
        "\n",
        "            prev_centroids = dict(self.centroids)\n",
        "\n",
        "            for classification in self.classifications:\n",
        "                self.centroids[classification] = np.average(self.classifications[classification],axis=0)\n",
        "\n",
        "            optimized = True\n",
        "\n",
        "            for c in self.centroids:\n",
        "                original_centroid = prev_centroids[c]\n",
        "                current_centroid = self.centroids[c]\n",
        "                if np.sum((current_centroid-original_centroid)/original_centroid*100.0) > self.tol:\n",
        "                    print(np.sum((current_centroid-original_centroid)/original_centroid*100.0))\n",
        "                    optimized = False\n",
        "\n",
        "            if optimized:\n",
        "                break\n",
        "\n",
        "    def predict(self,data):\n",
        "        distances = [np.linalg.norm(data-self.centroids[centroid]) for centroid in self.centroids]\n",
        "        classification = distances.index(min(distances))\n",
        "        return classification\n",
        "        \n",
        "colors = 10*[\"g\",\"r\",\"c\",\"b\",\"k\"]"
      ],
      "execution_count": 0,
      "outputs": []
    }
  ]
}